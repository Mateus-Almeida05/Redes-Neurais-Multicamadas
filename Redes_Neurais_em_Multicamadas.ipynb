{
  "nbformat": 4,
  "nbformat_minor": 0,
  "metadata": {
    "colab": {
      "provenance": []
    },
    "kernelspec": {
      "name": "python3",
      "display_name": "Python 3"
    },
    "language_info": {
      "name": "python"
    }
  },
  "cells": [
    {
      "cell_type": "markdown",
      "source": [
        "##**Redes Neurais Multicamadas com Python**"
      ],
      "metadata": {
        "id": "5UqmBZqPyJKa"
      }
    },
    {
      "cell_type": "markdown",
      "source": [
        "**1. Entendimento**"
      ],
      "metadata": {
        "id": "y_0Sp-uESbaR"
      }
    },
    {
      "cell_type": "markdown",
      "source": [
        "Neste estudo será apresentada a implementação de Redes Neurais Multicamadas (Multilayer Perceptrons – MLPs) utilizando Python e a biblioteca de Deep Learning Keras, que atualmente está integrada ao TensorFlow. O objetivo é demonstrar, na prática, como construir, treinar e avaliar modelos de redes neurais capazes de resolver problemas de previsão e classificação.\n",
        "\n",
        "De forma resumida, uma rede neural multicamadas (MLP – Multilayer Perceptron) é um modelo de aprendizado de máquina composto por várias camadas de neurônios artificiais.\n",
        "\n",
        "Seu funcionamento pode ser descrito da seguinte maneira:\n",
        "\n",
        "  - Os neurônios são organizados em duas ou mais camadas, sendo obrigatório ter pelo menos uma camada de entrada e uma camada de saída.\n",
        "\n",
        "  - A camada de entrada recebe os dados brutos que alimentam a rede.\n",
        "\n",
        "  - As camadas ocultas transformam e combinam essas informações, ajustando pesos e aplicando funções de ativação para capturar relações complexas.\n",
        "\n",
        "  - A camada de saída produz o resultado final, que pode ser uma previsão numérica (regressão) ou uma classificação (rótulo de categoria).\n",
        "\n",
        "As Redes Neurais Artificiais podem ser representadas como um grafo acíclico dirigido, no qual os nós correspondem aos neurônios e as arestas representam as conexões entre eles. Esse tipo de estrutura não contém ciclos, ou seja, não há caminhos que retornem ao mesmo nó.\n",
        "\n",
        "O tipo de camada mais comum é a fully connected layer, também chamada de Dense Layer. Nesse modelo, cada neurônio de uma camada está conectado a todos os neurônios da camada anterior. Esse arranjo é conhecido como Rede Neural Feedforward, pois a informação flui apenas em uma direção: da camada de entrada, passando pelas camadas ocultas, até chegar à camada de saída.\n",
        "\n",
        "Para efeito de comparação, em Redes Neurais Recorrentes (RNNs) as conexões podem formar loops, permitindo que a saída de um neurônio em um instante seja utilizada como entrada em passos seguintes. Por isso, as RNNs não são puramente feedforward, mas sim capazes de lidar com dependências temporais."
      ],
      "metadata": {
        "id": "gza82g-eyZRO"
      }
    },
    {
      "cell_type": "markdown",
      "source": [
        "Agora daremos início à implementação prática de uma rede neural utilizando a biblioteca Keras aplicada ao conjunto de dados MNIST."
      ],
      "metadata": {
        "id": "L3U8fPvK69ta"
      }
    },
    {
      "cell_type": "markdown",
      "source": [
        "**2. MNIST**\n",
        "\n",
        "O MNIST é um dos datasets mais clássicos da área de visão computacional. Ele contém 70.000 imagens de dígitos manuscritos, variando de 0 a 9, cada uma com dimensão de 28 × 28 pixels em escala de cinza.\n",
        "\n",
        "Esse conjunto de dados é amplamente utilizado para testar, validar e comparar algoritmos de classificação de imagens, servindo como ponto de partida em muitos estudos de aprendizado de máquina e deep learning.\n",
        "\n",
        "No Python, o MNIST já está disponível em bibliotecas como o scikit-learn e também no próprio Keras, podendo ser importado diretamente sem necessidade de download manual.\n",
        "\n",
        "Na próxima etapa, vamos importar as bibliotecas necessárias, carregar o conjunto de dados e exibir algumas informações básicas sobre suas características.\n"
      ],
      "metadata": {
        "id": "OaF7xnCW7lzz"
      }
    },
    {
      "cell_type": "code",
      "source": [
        "\n",
        "\n",
        "# importando os pacotes necessários\n",
        "from tensorflow.keras.datasets import mnist\n",
        "from sklearn.datasets import fetch_openml\n",
        "from tensorflow.keras.layers import Dense\n",
        "from sklearn.model_selection import train_test_split\n",
        "from sklearn.metrics import classification_report\n",
        "from sklearn.preprocessing import LabelBinarizer\n",
        "from keras.models import Sequential\n",
        "from keras.optimizers import SGD\n",
        "import numpy as np\n",
        "import matplotlib.pyplot as plt"
      ],
      "metadata": {
        "id": "G3p804fV_RXj"
      },
      "execution_count": null,
      "outputs": []
    },
    {
      "cell_type": "markdown",
      "source": [
        "O array que representa o dataset contém 70.000 linhas, sendo cada linha correspondente a uma imagem do MNIST. Como cada imagem possui dimensão de 28 × 28 pixels, os valores foram achatados em um vetor unidimensional de 784 colunas, onde cada elemento representa a intensidade de um pixel em escala de cinza.\n",
        "\n",
        "Na visualização de exemplo, a imagem escolhida aleatoriamente foi o dígito “8”, confirmando que os dados carregados estão corretamente estruturados e prontos para serem utilizados no treinamento da rede neural."
      ],
      "metadata": {
        "id": "PUkxuZVJTllL"
      }
    },
    {
      "cell_type": "code",
      "source": [
        "#Importar o conjunto de datasets MNIST\n",
        "dataset = fetch_openml('mnist_784', version=1)\n",
        "data, labels = dataset.data, dataset.target.astype(int)\n",
        "\n",
        "#Exibir algumas informações do dataset MNIST\n",
        "print(\"[INFO] Número de imagens: {}\".format(data.shape[0]))\n",
        "print(\"[INFO] Pixels por imagem: {}\".format(data.shape[1]))\n",
        "\n",
        "np.random.seed(17)\n",
        "randomIndex = np.random.randint(0, data.shape[0])\n",
        "print(\"[INFO] Imagem aleatória do MNIST com label '{:.0f}':\".format(labels[randomIndex]))\n",
        "\n",
        "plt.imshow(data.iloc[randomIndex].to_numpy().reshape((28,28)), cmap=\"Greys\")\n",
        "plt.show()\n"
      ],
      "metadata": {
        "colab": {
          "base_uri": "https://localhost:8080/",
          "height": 482
        },
        "id": "HE9VVsT1DNsp",
        "outputId": "06e64bc7-4678-4117-def1-c65dd09464c8"
      },
      "execution_count": null,
      "outputs": [
        {
          "output_type": "stream",
          "name": "stdout",
          "text": [
            "[INFO] Número de imagens: 70000\n",
            "[INFO] Pixels por imagem: 784\n",
            "[INFO] Imagem aleatória do MNIST com label '8':\n"
          ]
        },
        {
          "output_type": "display_data",
          "data": {
            "text/plain": [
              "<Figure size 640x480 with 1 Axes>"
            ],
            "image/png": "[encoded data removed]"
          },
          "metadata": {}
        }
      ]
    },
    {
      "cell_type": "markdown",
      "source": [
        "**3. Split**\n",
        "\n",
        "O próximo passo consiste em dividir o conjunto de imagens em treino (75%) e teste (25%). O conjunto de treino será utilizado para ajustar os pesos da rede neural, enquanto o conjunto de teste servirá para avaliar se o modelo é capaz de generalizar seu aprendizado para dados novos.\n",
        "\n",
        "É importante que os dois conjuntos sejam independentes, evitando problemas como o overfitting, situação em que o modelo memoriza os dados de treino e apresenta alta acurácia apenas neles, mas falha ao lidar com exemplos nunca vistos.\n",
        "\n",
        "Além disso, os rótulos das imagens (labels), que inicialmente são representados como números inteiros de 0 a 9, precisam ser convertidos em vetores binários para que a rede neural consiga processá-los corretamente. Esse processo é conhecido como one-hot encoding e será realizado utilizando a classe LabelBinarizer.\n",
        "\n"
      ],
      "metadata": {
        "id": "K-5vlQ-HAtTN"
      }
    },
    {
      "cell_type": "code",
      "source": [
        "# dividir o dataset entre train (75%) e test (25%)\n",
        "(trainX, testX, trainY, testY) = train_test_split(data, labels, test_size=0.25, random_state=42)\n",
        "\n",
        "# converter labels de inteiros para vetores\n",
        "lb = LabelBinarizer()\n",
        "trainY = lb.fit_transform(trainY)\n",
        "testY = lb.transform(testY)\n",
        "\n"
      ],
      "metadata": {
        "id": "4IwPUEk4N3cR"
      },
      "execution_count": null,
      "outputs": []
    },
    {
      "cell_type": "markdown",
      "source": [
        "**4. Arquitetura da Rede Neural**\n",
        "\n",
        "Com o dataset já preparado e processado, o próximo passo é definir a arquitetura da Rede Neural. Neste exemplo, será utilizada uma rede com quatro camadas, definidas de forma arbitrária.\n",
        "\n",
        "A primeira camada é a de entrada e recebe como input os valores de cada pixel da imagem. Como cada imagem possui 28 × 28 pixels, essa camada contará com 784 neurônios.\n",
        "\n",
        "As camadas ocultas (hidden layers) foram configuradas com 128 neurônios na primeira (l1) e 64 neurônios na segunda (l2). Esses valores também foram definidos de maneira arbitrária, mas refletem uma escolha comum em arquiteturas iniciais de redes neurais.\n",
        "\n",
        "A camada de saída (l3) terá 10 neurônios, correspondentes ao número de classes do problema, já que existem 10 dígitos possíveis (de 0 a 9).\n",
        "\n",
        "A rede neural implementada neste projeto apresenta as seguintes características:\n",
        "\n",
        "  - Arquitetura feedforward: a informação flui apenas em uma direção, da camada de entrada para as camadas ocultas e, finalmente, para a camada de saída.\n",
        "\n",
        "  - Instanciação pela classe Sequential: a rede é construída de forma sequencial, em que a saída de uma camada serve como entrada para a próxima.\n",
        "\n",
        "  - Camadas totalmente conectadas (Dense layers): cada neurônio está conectado a todos os neurônios da camada anterior.\n",
        "\n",
        "  - Função de ativação das camadas ocultas: foi utilizada a função sigmoid, que transforma os valores reais em um intervalo entre [0, 1]. Embora funcione, uma alternativa bastante comum é a função ReLU (Rectified Linear Unit), que costuma acelerar o treinamento e melhorar a acurácia.\n",
        "\n",
        "  - Função de ativação da camada de saída: foi utilizada a softmax, adequada para problemas de classificação multiclasse, pois transforma as saídas em probabilidades associadas a cada uma das classes possíveis (neste caso, os dígitos de 0 a 9)."
      ],
      "metadata": {
        "id": "A4cnB-LyOEfa"
      }
    },
    {
      "cell_type": "code",
      "source": [
        "model = Sequential()\n",
        "model.add(Dense(128, input_shape=(784,), activation=\"sigmoid\"))\n",
        "model.add(Dense(64, activation=\"sigmoid\"))\n",
        "model.add(Dense(10, activation=\"softmax\"))"
      ],
      "metadata": {
        "colab": {
          "base_uri": "https://localhost:8080/"
        },
        "id": "1312gja2R9nz",
        "outputId": "1ad23676-b4d3-4d58-f1cd-c4d14b0a04eb"
      },
      "execution_count": null,
      "outputs": [
        {
          "output_type": "stream",
          "name": "stderr",
          "text": [
            "/usr/local/lib/python3.12/dist-packages/keras/src/layers/core/dense.py:93: UserWarning: Do not pass an `input_shape`/`input_dim` argument to a layer. When using Sequential models, prefer using an `Input(shape)` object as the first layer in the model instead.\n",
            "  super().__init__(activity_regularizer=activity_regularizer, **kwargs)\n"
          ]
        }
      ]
    },
    {
      "cell_type": "markdown",
      "source": [
        "**5. Treinamento do Modelo**\n",
        "\n",
        "Para o treinamento do modelo será utilizado o algoritmo Stochastic Gradient Descent (SGD), configurado com as seguintes características:\n",
        "\n",
        "  - Learning rate = 0.01: taxa de aprendizado inicial, que pode ser ajustada de acordo com a performance do modelo.\n",
        "\n",
        "  - Loss function = categorical_crossentropy: função de perda apropriada para problemas de classificação multiclasse, já que o output possui mais de duas classes possíveis.\n",
        "\n",
        "O SGD atua ajustando os pesos da rede de forma iterativa, com o objetivo de minimizar a função de perda. O termo stochastic se refere ao fato de que, em vez de utilizar todo o dataset de uma só vez, o algoritmo atualiza os pesos a partir de mini-batches, ou subconjuntos dos dados de treino. Isso torna o processo de treinamento mais rápido e ainda ajuda o modelo a escapar de mínimos locais, aumentando as chances de convergência para uma solução melhor.\n",
        "\n",
        "A função de perda categorical_crossentropy mede a discrepância entre as probabilidades previstas pela rede e as classes reais, servindo como guia para o ajuste dos pesos durante o processo de aprendizado."
      ],
      "metadata": {
        "id": "cJwzFa0mUY59"
      }
    },
    {
      "cell_type": "code",
      "source": [
        "#treinamento do modelo\n",
        "print(\"[INFO] treinando a rede neural...\")\n",
        "model.compile(optimizer=SGD(0.01), loss=\"categorical_crossentropy\",\n",
        "             metrics=[\"accuracy\"])\n",
        "\n",
        "H = model.fit(trainX, trainY, batch_size=128, epochs=100, verbose=2,\n",
        "         validation_data=(testX, testY))"
      ],
      "metadata": {
        "colab": {
          "base_uri": "https://localhost:8080/"
        },
        "id": "aHYUUoEnYU_Z",
        "outputId": "57be5616-01d3-49b6-ff0a-76f7d4517c82"
      },
      "execution_count": null,
      "outputs": [
        {
          "output_type": "stream",
          "name": "stdout",
          "text": [
            "[INFO] treinando a rede neural...\n",
            "Epoch 1/100\n",
            "411/411 - 3s - 7ms/step - accuracy: 0.9125 - loss: 0.3711 - val_accuracy: 0.9089 - val_loss: 0.3787\n",
            "Epoch 2/100\n",
            "411/411 - 3s - 8ms/step - accuracy: 0.9152 - loss: 0.3508 - val_accuracy: 0.9105 - val_loss: 0.3599\n",
            "Epoch 3/100\n",
            "411/411 - 5s - 12ms/step - accuracy: 0.9183 - loss: 0.3322 - val_accuracy: 0.9139 - val_loss: 0.3431\n",
            "Epoch 4/100\n",
            "411/411 - 2s - 6ms/step - accuracy: 0.9211 - loss: 0.3168 - val_accuracy: 0.9146 - val_loss: 0.3323\n",
            "Epoch 5/100\n",
            "411/411 - 2s - 6ms/step - accuracy: 0.9245 - loss: 0.3042 - val_accuracy: 0.9154 - val_loss: 0.3214\n",
            "Epoch 6/100\n",
            "411/411 - 3s - 9ms/step - accuracy: 0.9268 - loss: 0.2917 - val_accuracy: 0.9178 - val_loss: 0.3146\n",
            "Epoch 7/100\n",
            "411/411 - 4s - 11ms/step - accuracy: 0.9291 - loss: 0.2819 - val_accuracy: 0.9198 - val_loss: 0.3010\n",
            "Epoch 8/100\n",
            "411/411 - 2s - 5ms/step - accuracy: 0.9300 - loss: 0.2723 - val_accuracy: 0.9203 - val_loss: 0.2946\n",
            "Epoch 9/100\n",
            "411/411 - 2s - 6ms/step - accuracy: 0.9333 - loss: 0.2612 - val_accuracy: 0.9221 - val_loss: 0.2863\n",
            "Epoch 10/100\n",
            "411/411 - 3s - 7ms/step - accuracy: 0.9348 - loss: 0.2543 - val_accuracy: 0.9237 - val_loss: 0.2790\n",
            "Epoch 11/100\n",
            "411/411 - 2s - 5ms/step - accuracy: 0.9352 - loss: 0.2485 - val_accuracy: 0.9247 - val_loss: 0.2734\n",
            "Epoch 12/100\n",
            "411/411 - 3s - 6ms/step - accuracy: 0.9367 - loss: 0.2413 - val_accuracy: 0.9258 - val_loss: 0.2689\n",
            "Epoch 13/100\n",
            "411/411 - 2s - 5ms/step - accuracy: 0.9379 - loss: 0.2360 - val_accuracy: 0.9271 - val_loss: 0.2623\n",
            "Epoch 14/100\n",
            "411/411 - 2s - 4ms/step - accuracy: 0.9400 - loss: 0.2284 - val_accuracy: 0.9293 - val_loss: 0.2598\n",
            "Epoch 15/100\n",
            "411/411 - 2s - 6ms/step - accuracy: 0.9407 - loss: 0.2234 - val_accuracy: 0.9309 - val_loss: 0.2524\n",
            "Epoch 16/100\n",
            "411/411 - 3s - 6ms/step - accuracy: 0.9432 - loss: 0.2179 - val_accuracy: 0.9291 - val_loss: 0.2486\n",
            "Epoch 17/100\n",
            "411/411 - 2s - 5ms/step - accuracy: 0.9438 - loss: 0.2117 - val_accuracy: 0.9340 - val_loss: 0.2440\n",
            "Epoch 18/100\n",
            "411/411 - 3s - 7ms/step - accuracy: 0.9446 - loss: 0.2079 - val_accuracy: 0.9344 - val_loss: 0.2390\n",
            "Epoch 19/100\n",
            "411/411 - 2s - 5ms/step - accuracy: 0.9467 - loss: 0.2016 - val_accuracy: 0.9343 - val_loss: 0.2367\n",
            "Epoch 20/100\n",
            "411/411 - 2s - 5ms/step - accuracy: 0.9477 - loss: 0.1996 - val_accuracy: 0.9341 - val_loss: 0.2344\n",
            "Epoch 21/100\n",
            "411/411 - 3s - 7ms/step - accuracy: 0.9486 - loss: 0.1948 - val_accuracy: 0.9350 - val_loss: 0.2293\n",
            "Epoch 22/100\n",
            "411/411 - 2s - 5ms/step - accuracy: 0.9504 - loss: 0.1898 - val_accuracy: 0.9358 - val_loss: 0.2267\n",
            "Epoch 23/100\n",
            "411/411 - 3s - 7ms/step - accuracy: 0.9514 - loss: 0.1858 - val_accuracy: 0.9365 - val_loss: 0.2249\n",
            "Epoch 24/100\n",
            "411/411 - 2s - 5ms/step - accuracy: 0.9514 - loss: 0.1839 - val_accuracy: 0.9387 - val_loss: 0.2202\n",
            "Epoch 25/100\n",
            "411/411 - 3s - 7ms/step - accuracy: 0.9526 - loss: 0.1796 - val_accuracy: 0.9394 - val_loss: 0.2175\n",
            "Epoch 26/100\n",
            "411/411 - 3s - 8ms/step - accuracy: 0.9548 - loss: 0.1753 - val_accuracy: 0.9389 - val_loss: 0.2154\n",
            "Epoch 27/100\n",
            "411/411 - 2s - 5ms/step - accuracy: 0.9549 - loss: 0.1724 - val_accuracy: 0.9403 - val_loss: 0.2131\n",
            "Epoch 28/100\n",
            "411/411 - 3s - 7ms/step - accuracy: 0.9550 - loss: 0.1703 - val_accuracy: 0.9404 - val_loss: 0.2119\n",
            "Epoch 29/100\n",
            "411/411 - 2s - 5ms/step - accuracy: 0.9560 - loss: 0.1672 - val_accuracy: 0.9391 - val_loss: 0.2091\n",
            "Epoch 30/100\n",
            "411/411 - 2s - 5ms/step - accuracy: 0.9568 - loss: 0.1628 - val_accuracy: 0.9422 - val_loss: 0.2074\n",
            "Epoch 31/100\n",
            "411/411 - 3s - 7ms/step - accuracy: 0.9577 - loss: 0.1609 - val_accuracy: 0.9419 - val_loss: 0.2042\n",
            "Epoch 32/100\n",
            "411/411 - 4s - 10ms/step - accuracy: 0.9588 - loss: 0.1577 - val_accuracy: 0.9411 - val_loss: 0.2043\n",
            "Epoch 33/100\n",
            "411/411 - 3s - 6ms/step - accuracy: 0.9585 - loss: 0.1556 - val_accuracy: 0.9438 - val_loss: 0.2000\n",
            "Epoch 34/100\n",
            "411/411 - 2s - 5ms/step - accuracy: 0.9595 - loss: 0.1521 - val_accuracy: 0.9421 - val_loss: 0.1983\n",
            "Epoch 35/100\n",
            "411/411 - 3s - 8ms/step - accuracy: 0.9596 - loss: 0.1516 - val_accuracy: 0.9443 - val_loss: 0.1937\n",
            "Epoch 36/100\n",
            "411/411 - 4s - 10ms/step - accuracy: 0.9609 - loss: 0.1469 - val_accuracy: 0.9429 - val_loss: 0.1960\n",
            "Epoch 37/100\n",
            "411/411 - 2s - 6ms/step - accuracy: 0.9615 - loss: 0.1456 - val_accuracy: 0.9446 - val_loss: 0.1931\n",
            "Epoch 38/100\n",
            "411/411 - 3s - 7ms/step - accuracy: 0.9625 - loss: 0.1426 - val_accuracy: 0.9439 - val_loss: 0.1917\n",
            "Epoch 39/100\n",
            "411/411 - 3s - 7ms/step - accuracy: 0.9634 - loss: 0.1397 - val_accuracy: 0.9454 - val_loss: 0.1891\n",
            "Epoch 40/100\n",
            "411/411 - 5s - 11ms/step - accuracy: 0.9638 - loss: 0.1388 - val_accuracy: 0.9444 - val_loss: 0.1909\n",
            "Epoch 41/100\n",
            "411/411 - 2s - 5ms/step - accuracy: 0.9632 - loss: 0.1397 - val_accuracy: 0.9440 - val_loss: 0.1885\n",
            "Epoch 42/100\n",
            "411/411 - 2s - 5ms/step - accuracy: 0.9650 - loss: 0.1338 - val_accuracy: 0.9461 - val_loss: 0.1844\n",
            "Epoch 43/100\n",
            "411/411 - 3s - 8ms/step - accuracy: 0.9658 - loss: 0.1320 - val_accuracy: 0.9463 - val_loss: 0.1840\n",
            "Epoch 44/100\n",
            "411/411 - 2s - 6ms/step - accuracy: 0.9664 - loss: 0.1304 - val_accuracy: 0.9463 - val_loss: 0.1845\n",
            "Epoch 45/100\n",
            "411/411 - 2s - 4ms/step - accuracy: 0.9658 - loss: 0.1305 - val_accuracy: 0.9462 - val_loss: 0.1828\n",
            "Epoch 46/100\n",
            "411/411 - 3s - 6ms/step - accuracy: 0.9666 - loss: 0.1277 - val_accuracy: 0.9470 - val_loss: 0.1813\n",
            "Epoch 47/100\n",
            "411/411 - 3s - 7ms/step - accuracy: 0.9665 - loss: 0.1274 - val_accuracy: 0.9470 - val_loss: 0.1802\n",
            "Epoch 48/100\n",
            "411/411 - 2s - 6ms/step - accuracy: 0.9672 - loss: 0.1249 - val_accuracy: 0.9494 - val_loss: 0.1755\n",
            "Epoch 49/100\n",
            "411/411 - 3s - 6ms/step - accuracy: 0.9689 - loss: 0.1206 - val_accuracy: 0.9494 - val_loss: 0.1749\n",
            "Epoch 50/100\n",
            "411/411 - 2s - 5ms/step - accuracy: 0.9692 - loss: 0.1191 - val_accuracy: 0.9493 - val_loss: 0.1746\n",
            "Epoch 51/100\n",
            "411/411 - 3s - 6ms/step - accuracy: 0.9700 - loss: 0.1168 - val_accuracy: 0.9483 - val_loss: 0.1763\n",
            "Epoch 52/100\n",
            "411/411 - 2s - 6ms/step - accuracy: 0.9700 - loss: 0.1171 - val_accuracy: 0.9494 - val_loss: 0.1730\n",
            "Epoch 53/100\n",
            "411/411 - 2s - 6ms/step - accuracy: 0.9705 - loss: 0.1142 - val_accuracy: 0.9483 - val_loss: 0.1722\n",
            "Epoch 54/100\n",
            "411/411 - 3s - 7ms/step - accuracy: 0.9713 - loss: 0.1132 - val_accuracy: 0.9503 - val_loss: 0.1709\n",
            "Epoch 55/100\n",
            "411/411 - 2s - 5ms/step - accuracy: 0.9710 - loss: 0.1117 - val_accuracy: 0.9488 - val_loss: 0.1710\n",
            "Epoch 56/100\n",
            "411/411 - 2s - 5ms/step - accuracy: 0.9718 - loss: 0.1097 - val_accuracy: 0.9491 - val_loss: 0.1708\n",
            "Epoch 57/100\n",
            "411/411 - 2s - 5ms/step - accuracy: 0.9729 - loss: 0.1089 - val_accuracy: 0.9495 - val_loss: 0.1694\n",
            "Epoch 58/100\n",
            "411/411 - 2s - 5ms/step - accuracy: 0.9731 - loss: 0.1063 - val_accuracy: 0.9495 - val_loss: 0.1705\n",
            "Epoch 59/100\n",
            "411/411 - 3s - 8ms/step - accuracy: 0.9736 - loss: 0.1047 - val_accuracy: 0.9492 - val_loss: 0.1682\n",
            "Epoch 60/100\n",
            "411/411 - 4s - 10ms/step - accuracy: 0.9739 - loss: 0.1042 - val_accuracy: 0.9492 - val_loss: 0.1681\n",
            "Epoch 61/100\n",
            "411/411 - 3s - 6ms/step - accuracy: 0.9744 - loss: 0.1026 - val_accuracy: 0.9502 - val_loss: 0.1678\n",
            "Epoch 62/100\n",
            "411/411 - 2s - 5ms/step - accuracy: 0.9745 - loss: 0.1018 - val_accuracy: 0.9503 - val_loss: 0.1650\n",
            "Epoch 63/100\n",
            "411/411 - 3s - 7ms/step - accuracy: 0.9747 - loss: 0.1005 - val_accuracy: 0.9509 - val_loss: 0.1645\n",
            "Epoch 64/100\n",
            "411/411 - 2s - 5ms/step - accuracy: 0.9755 - loss: 0.0978 - val_accuracy: 0.9512 - val_loss: 0.1633\n",
            "Epoch 65/100\n",
            "411/411 - 2s - 5ms/step - accuracy: 0.9764 - loss: 0.0973 - val_accuracy: 0.9514 - val_loss: 0.1618\n",
            "Epoch 66/100\n",
            "411/411 - 3s - 7ms/step - accuracy: 0.9764 - loss: 0.0965 - val_accuracy: 0.9513 - val_loss: 0.1631\n",
            "Epoch 67/100\n",
            "411/411 - 2s - 4ms/step - accuracy: 0.9773 - loss: 0.0937 - val_accuracy: 0.9517 - val_loss: 0.1598\n",
            "Epoch 68/100\n",
            "411/411 - 4s - 9ms/step - accuracy: 0.9776 - loss: 0.0922 - val_accuracy: 0.9519 - val_loss: 0.1596\n",
            "Epoch 69/100\n",
            "411/411 - 2s - 5ms/step - accuracy: 0.9777 - loss: 0.0907 - val_accuracy: 0.9502 - val_loss: 0.1613\n",
            "Epoch 70/100\n",
            "411/411 - 2s - 5ms/step - accuracy: 0.9775 - loss: 0.0917 - val_accuracy: 0.9511 - val_loss: 0.1619\n",
            "Epoch 71/100\n",
            "411/411 - 2s - 5ms/step - accuracy: 0.9778 - loss: 0.0901 - val_accuracy: 0.9528 - val_loss: 0.1612\n",
            "Epoch 72/100\n",
            "411/411 - 2s - 5ms/step - accuracy: 0.9780 - loss: 0.0895 - val_accuracy: 0.9519 - val_loss: 0.1598\n",
            "Epoch 73/100\n",
            "411/411 - 2s - 5ms/step - accuracy: 0.9786 - loss: 0.0879 - val_accuracy: 0.9523 - val_loss: 0.1591\n",
            "Epoch 74/100\n",
            "411/411 - 3s - 7ms/step - accuracy: 0.9788 - loss: 0.0876 - val_accuracy: 0.9511 - val_loss: 0.1582\n",
            "Epoch 75/100\n",
            "411/411 - 2s - 5ms/step - accuracy: 0.9790 - loss: 0.0876 - val_accuracy: 0.9523 - val_loss: 0.1571\n",
            "Epoch 76/100\n",
            "411/411 - 2s - 5ms/step - accuracy: 0.9783 - loss: 0.0870 - val_accuracy: 0.9526 - val_loss: 0.1596\n",
            "Epoch 77/100\n",
            "411/411 - 2s - 5ms/step - accuracy: 0.9795 - loss: 0.0847 - val_accuracy: 0.9518 - val_loss: 0.1586\n",
            "Epoch 78/100\n",
            "411/411 - 3s - 6ms/step - accuracy: 0.9793 - loss: 0.0833 - val_accuracy: 0.9526 - val_loss: 0.1550\n",
            "Epoch 79/100\n",
            "411/411 - 3s - 7ms/step - accuracy: 0.9805 - loss: 0.0816 - val_accuracy: 0.9525 - val_loss: 0.1573\n",
            "Epoch 80/100\n",
            "411/411 - 2s - 5ms/step - accuracy: 0.9806 - loss: 0.0805 - val_accuracy: 0.9533 - val_loss: 0.1540\n",
            "Epoch 81/100\n",
            "411/411 - 3s - 6ms/step - accuracy: 0.9814 - loss: 0.0789 - val_accuracy: 0.9534 - val_loss: 0.1558\n",
            "Epoch 82/100\n",
            "411/411 - 2s - 5ms/step - accuracy: 0.9811 - loss: 0.0784 - val_accuracy: 0.9526 - val_loss: 0.1547\n",
            "Epoch 83/100\n",
            "411/411 - 3s - 7ms/step - accuracy: 0.9819 - loss: 0.0770 - val_accuracy: 0.9527 - val_loss: 0.1550\n",
            "Epoch 84/100\n",
            "411/411 - 3s - 7ms/step - accuracy: 0.9817 - loss: 0.0770 - val_accuracy: 0.9531 - val_loss: 0.1537\n",
            "Epoch 85/100\n",
            "411/411 - 5s - 11ms/step - accuracy: 0.9822 - loss: 0.0751 - val_accuracy: 0.9531 - val_loss: 0.1521\n",
            "Epoch 86/100\n",
            "411/411 - 2s - 5ms/step - accuracy: 0.9824 - loss: 0.0746 - val_accuracy: 0.9531 - val_loss: 0.1522\n",
            "Epoch 87/100\n",
            "411/411 - 2s - 6ms/step - accuracy: 0.9830 - loss: 0.0732 - val_accuracy: 0.9527 - val_loss: 0.1557\n",
            "Epoch 88/100\n",
            "411/411 - 3s - 7ms/step - accuracy: 0.9830 - loss: 0.0728 - val_accuracy: 0.9538 - val_loss: 0.1524\n",
            "Epoch 89/100\n",
            "411/411 - 4s - 10ms/step - accuracy: 0.9824 - loss: 0.0736 - val_accuracy: 0.9534 - val_loss: 0.1512\n",
            "Epoch 90/100\n",
            "411/411 - 2s - 6ms/step - accuracy: 0.9839 - loss: 0.0699 - val_accuracy: 0.9549 - val_loss: 0.1513\n",
            "Epoch 91/100\n",
            "411/411 - 3s - 7ms/step - accuracy: 0.9835 - loss: 0.0701 - val_accuracy: 0.9539 - val_loss: 0.1499\n",
            "Epoch 92/100\n",
            "411/411 - 3s - 7ms/step - accuracy: 0.9837 - loss: 0.0699 - val_accuracy: 0.9545 - val_loss: 0.1505\n",
            "Epoch 93/100\n",
            "411/411 - 2s - 5ms/step - accuracy: 0.9842 - loss: 0.0678 - val_accuracy: 0.9537 - val_loss: 0.1499\n",
            "Epoch 94/100\n",
            "411/411 - 2s - 5ms/step - accuracy: 0.9843 - loss: 0.0669 - val_accuracy: 0.9539 - val_loss: 0.1493\n",
            "Epoch 95/100\n",
            "411/411 - 2s - 4ms/step - accuracy: 0.9844 - loss: 0.0668 - val_accuracy: 0.9538 - val_loss: 0.1509\n",
            "Epoch 96/100\n",
            "411/411 - 2s - 5ms/step - accuracy: 0.9852 - loss: 0.0653 - val_accuracy: 0.9554 - val_loss: 0.1484\n",
            "Epoch 97/100\n",
            "411/411 - 3s - 8ms/step - accuracy: 0.9855 - loss: 0.0647 - val_accuracy: 0.9547 - val_loss: 0.1483\n",
            "Epoch 98/100\n",
            "411/411 - 2s - 6ms/step - accuracy: 0.9849 - loss: 0.0653 - val_accuracy: 0.9547 - val_loss: 0.1501\n",
            "Epoch 99/100\n",
            "411/411 - 2s - 6ms/step - accuracy: 0.9846 - loss: 0.0645 - val_accuracy: 0.9546 - val_loss: 0.1488\n",
            "Epoch 100/100\n",
            "411/411 - 2s - 6ms/step - accuracy: 0.9855 - loss: 0.0627 - val_accuracy: 0.9550 - val_loss: 0.1477\n"
          ]
        }
      ]
    },
    {
      "cell_type": "markdown",
      "source": [
        "**6. Avaliação do Modelo**"
      ],
      "metadata": {
        "id": "87W1sOVhUqsu"
      }
    },
    {
      "cell_type": "markdown",
      "source": [
        "Para avaliar o desempenho da rede, será utilizado o método model.predict, responsável por gerar previsões a partir do dataset. No caso do conjunto de teste, que contém 17.500 imagens, o modelo irá calcular a probabilidade de cada amostra pertencer a uma das 10 classes possíveis (dígitos de 0 a 9).\n",
        "\n",
        "A previsão final para cada imagem é obtida atribuindo o rótulo (label) correspondente ao dígito com maior probabilidade. Dessa forma, cada imagem do conjunto de teste recebe uma classificação entre 0 e 9, permitindo comparar os resultados obtidos pelo modelo com os valores reais e, assim, medir sua acurácia."
      ],
      "metadata": {
        "id": "h1XnaZrPc6mh"
      }
    },
    {
      "cell_type": "code",
      "source": [
        "predictions = model.predict(testX, batch_size=128)\n",
        "\n",
        "#mostra o resultado do desempenho do modelo para cada classe do MNIST\n",
        "print (classification_report(testY.argmax(axis=1), predictions.argmax(axis=1)))"
      ],
      "metadata": {
        "colab": {
          "base_uri": "https://localhost:8080/"
        },
        "id": "ogoDvIbxd3_4",
        "outputId": "434e0006-34d8-46fb-a667-5a60f7e21a01"
      },
      "execution_count": null,
      "outputs": [
        {
          "output_type": "stream",
          "name": "stdout",
          "text": [
            "\u001b[1m137/137\u001b[0m \u001b[32m━━━━━━━━━━━━━━━━━━━━\u001b[0m\u001b[37m\u001b[0m \u001b[1m0s\u001b[0m 3ms/step\n",
            "              precision    recall  f1-score   support\n",
            "\n",
            "           0       0.97      0.98      0.97      1714\n",
            "           1       0.97      0.98      0.98      1977\n",
            "           2       0.95      0.95      0.95      1761\n",
            "           3       0.94      0.95      0.94      1806\n",
            "           4       0.95      0.96      0.95      1587\n",
            "           5       0.95      0.94      0.95      1607\n",
            "           6       0.96      0.97      0.97      1761\n",
            "           7       0.96      0.96      0.96      1878\n",
            "           8       0.96      0.93      0.94      1657\n",
            "           9       0.95      0.94      0.94      1752\n",
            "\n",
            "    accuracy                           0.96     17500\n",
            "   macro avg       0.95      0.95      0.95     17500\n",
            "weighted avg       0.96      0.96      0.95     17500\n",
            "\n"
          ]
        }
      ]
    },
    {
      "cell_type": "markdown",
      "source": [
        "O próximo passo é plotar as curvas de acurácia e perda ao longo das iterações (épocas de treinamento). Essa visualização é importante porque permite analisar de forma intuitiva o comportamento do modelo durante o aprendizado.\n",
        "\n",
        "Com os gráficos, é possível verificar se a rede está convergindo adequadamente ou se apresenta problemas como overfitting — situação em que a acurácia no treino continua aumentando, mas a acurácia no teste estagna ou diminui, enquanto a perda do teste cresce. Dessa forma, o acompanhamento visual das métricas fornece um diagnóstico rápido sobre a qualidade do treinamento e auxilia na tomada de decisões, como ajustar hiperparâmetros, modificar a arquitetura da rede ou aplicar técnicas de regularização."
      ],
      "metadata": {
        "id": "E4VxABVLedRK"
      }
    },
    {
      "cell_type": "code",
      "source": [
        "# plotar loss e accuracy para os datasets 'train' e 'test'\n",
        "plt.style.use(\"ggplot\")\n",
        "plt.figure()\n",
        "plt.plot(np.arange(0,100), H.history[\"loss\"], label=\"train_loss\")\n",
        "plt.plot(np.arange(0,100), H.history[\"val_loss\"], label=\"val_loss\")\n",
        "plt.plot(np.arange(0,100), H.history[\"accuracy\"], label=\"train_acc\")\n",
        "plt.plot(np.arange(0,100), H.history[\"val_accuracy\"], label=\"val_acc\")\n",
        "plt.title(\"Training Loss and Accuracy\")\n",
        "plt.xlabel(\"Epoch #\")\n",
        "plt.ylabel(\"Loss/Accuracy\")\n",
        "plt.legend()\n",
        "plt.show()\n"
      ],
      "metadata": {
        "colab": {
          "base_uri": "https://localhost:8080/",
          "height": 477
        },
        "id": "MGaNdlofj-gG",
        "outputId": "040113d8-529a-4c0e-84ae-7a082b6a35b6"
      },
      "execution_count": null,
      "outputs": [
        {
          "output_type": "display_data",
          "data": {
            "text/plain": [
              "<Figure size 640x480 with 1 Axes>"
            ],
            "image/png": "[encoded data removed]"
          },
          "metadata": {}
        }
      ]
    },
    {
      "cell_type": "markdown",
      "source": [
        "**7. Conclusões**\n",
        "\n",
        "Loss:\n",
        "- Analisando o gráfico, verificamos que a train_loss e val_loss deminuem constantemente à medida que as epochs avançam. Isso indica que o modelo está aprendendo e ajustando os pesos corretamente.\n",
        "\n",
        "- A diferença entre train_loss e val_loss é pequena, indicando overfitting leve ou ausente.\n",
        "\n",
        "\n",
        "Acurácia:\n",
        "- Ao final das 100 epochs, a rede conseguiu atingir uma acurácia de 96%. Isso significa que o modelo está classificando corretamente a maioria das imagens, tanto no treino quanto na validação.\n",
        "\n",
        "Outras observações:\n",
        "- Loss decrescendo e accuracy aumentando é o comportamento esperado.\n",
        "- Validação acompanhamento o treino indica boa generalização.\n",
        "- train_acc está levemente acima de val_acc, o que é normal. Se o gap aumentar muito, pode indicar overfitting.\n",
        "- 100 epochs parece adequado. O modelo está aprendendo, generalizando para o conjunto de validação, mas já se aproxima da convergência. Poderia melhorar ajustando outros parâmetros.\n",
        "\n"
      ],
      "metadata": {
        "id": "ozHLfm2NemtW"
      }
    }
  ]
}